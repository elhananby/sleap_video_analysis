{
 "cells": [
  {
   "cell_type": "code",
   "execution_count": 2,
   "metadata": {},
   "outputs": [],
   "source": [
    "import os\n",
    "from glob import glob\n",
    "\n",
    "import cv2\n",
    "import numpy as np\n",
    "from skimage.measure import label, regionprops"
   ]
  },
  {
   "cell_type": "code",
   "execution_count": 3,
   "metadata": {},
   "outputs": [
    {
     "name": "stdout",
     "output_type": "stream",
     "text": [
      "Found 969 video files.\n"
     ]
    }
   ],
   "source": [
    "video_base_path = \"/gpfs/soma_fs/nfc/nfc3008/Videos/\"\n",
    "experiment_folder = \"20250430_155345\"\n",
    "\n",
    "video_files = glob(os.path.join(video_base_path, experiment_folder, \"*.mp4\"))\n",
    "\n",
    "print(f\"Found {len(video_files)} video files.\")"
   ]
  },
  {
   "cell_type": "code",
   "execution_count": 30,
   "metadata": {},
   "outputs": [],
   "source": [
    "def resize(frame, f=0.3):\n",
    "    return cv2.resize(frame, (0, 0), fx=f, fy=f)\n"
   ]
  },
  {
   "cell_type": "code",
   "execution_count": 36,
   "metadata": {},
   "outputs": [],
   "source": [
    "video_file = cv2.VideoCapture(video_files[10])\n",
    "\n",
    "# Create a background subtractor object\n",
    "bgs = cv2.createBackgroundSubtractorMOG2(history=100, detectShadows=True)\n",
    "bgs.setShadowThreshold(0.75)\n",
    "\n",
    "while True:\n",
    "    ret, frame = video_file.read()\n",
    "\n",
    "    if not ret:\n",
    "        break\n",
    "\n",
    "    # Apply the background subtractor to get the foreground and shadow mask\n",
    "    fg_mask = bgs.apply(frame)\n",
    "    shadow_mask = cv2.inRange(fg_mask, 127, 127)\n",
    "    fly_mask = cv2.inRange(fg_mask, 255, 255)\n",
    "\n",
    "    # contours\n",
    "    fly_contours, _ = cv2.findContours(fly_mask, cv2.RETR_EXTERNAL, cv2.CHAIN_APPROX_SIMPLE)\n",
    "    shadow_contours, _ = cv2.findContours(shadow_mask, cv2.RETR_EXTERNAL, cv2.CHAIN_APPROX_SIMPLE)\n",
    "\n",
    "    # find largest contour\n",
    "    fly_contours = sorted(fly_contours, key=cv2.contourArea, reverse=True)[:1]\n",
    "    shadow_contours = sorted(shadow_contours, key=cv2.contourArea, reverse=True)[:1]\n",
    "\n",
    "    # draw largest contour for each\n",
    "    if len(fly_contours) > 0:\n",
    "        fly_contour = fly_contours[0]\n",
    "        if cv2.contourArea(fly_contour) < 100:\n",
    "            continue\n",
    "        cv2.drawContours(frame, [fly_contour], -1, (0, 255, 0), 3)\n",
    "    \n",
    "    if len(shadow_contours) > 0:\n",
    "        shadow_contour = shadow_contours[0]\n",
    "        if cv2.contourArea(shadow_contour) < 100:\n",
    "            continue\n",
    "        cv2.drawContours(frame, [shadow_contour], -1, (255, 0, 0), 3)\n",
    "\n",
    "    frame = resize(frame)\n",
    "\n",
    "\n",
    "    cv2.imshow(\"Frame\", frame)\n",
    "    if cv2.waitKey(1) & 0xFF == ord('q'):\n",
    "        break\n",
    "\n",
    "video_file.release()\n",
    "cv2.destroyAllWindows()"
   ]
  },
  {
   "cell_type": "code",
   "execution_count": 24,
   "metadata": {},
   "outputs": [],
   "source": []
  }
 ],
 "metadata": {
  "kernelspec": {
   "display_name": ".venv",
   "language": "python",
   "name": "python3"
  },
  "language_info": {
   "codemirror_mode": {
    "name": "ipython",
    "version": 3
   },
   "file_extension": ".py",
   "mimetype": "text/x-python",
   "name": "python",
   "nbconvert_exporter": "python",
   "pygments_lexer": "ipython3",
   "version": "3.10.15"
  }
 },
 "nbformat": 4,
 "nbformat_minor": 2
}
